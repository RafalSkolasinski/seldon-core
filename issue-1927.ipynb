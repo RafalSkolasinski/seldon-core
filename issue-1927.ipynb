{
 "cells": [
  {
   "cell_type": "markdown",
   "metadata": {},
   "source": [
    "# Model"
   ]
  },
  {
   "cell_type": "code",
   "execution_count": 1,
   "metadata": {},
   "outputs": [
    {
     "name": "stdout",
     "output_type": "stream",
     "text": [
      "mkdir: cannot create directory ‘issue_1927’: File exists\n"
     ]
    }
   ],
   "source": [
    "!mkdir issue_1927"
   ]
  },
  {
   "cell_type": "code",
   "execution_count": 2,
   "metadata": {},
   "outputs": [
    {
     "name": "stdout",
     "output_type": "stream",
     "text": [
      "Overwriting issue_1927/env\n"
     ]
    }
   ],
   "source": [
    "%%writefile issue_1927/env\n",
    "\n",
    "MODEL_NAME=Model\n",
    "API_TYPE=REST\n",
    "SERVICE_TYPE=MODEL\n",
    "PERSISTENCE=0\n",
    "SELDON_LOG_LEVEL=DEBUG"
   ]
  },
  {
   "cell_type": "code",
   "execution_count": 105,
   "metadata": {},
   "outputs": [
    {
     "name": "stdout",
     "output_type": "stream",
     "text": [
      "Overwriting issue_1927/Model.py\n"
     ]
    }
   ],
   "source": [
    "%%writefile issue_1927/Model.py\n",
    "\n",
    "import logging\n",
    "import json\n",
    "import time\n",
    "import os\n",
    "\n",
    "\n",
    "name = os.environ.get(\"SELDON_NAME\", \"unknown\")\n",
    "\n",
    "\n",
    "class Model:\n",
    "\n",
    "    def predict(self, features, names=[], meta={}):\n",
    "        logging.info(f\"model features: {features}\")\n",
    "        logging.info(f\"model names: {names}\")\n",
    "        logging.info(f\"model meta: {meta}\")\n",
    "        time.sleep(.1)\n",
    "        return features.tolist()\n",
    "        \n",
    "    def transform_input(self, features, names=[], meta=[]):\n",
    "        return self.predict(features, names, meta)\n",
    "\n",
    "    def transform_output(self, features, names=[], meta=[]):\n",
    "        return self.predict(features, names, meta)\n",
    "\n",
    "    def aggregate(self, features, names=[], meta=[]):\n",
    "        logging.info(f\"model features: {features}\")\n",
    "        logging.info(f\"model names: {names}\")\n",
    "        logging.info(f\"model meta: {meta}\")\n",
    "        time.sleep(.1)\n",
    "        return [x.tolist() for x in features]\n",
    "    \n",
    "    def tags(self):\n",
    "        return {f\"{name}-timestamp\": time.time()}"
   ]
  },
  {
   "cell_type": "code",
   "execution_count": 106,
   "metadata": {},
   "outputs": [
    {
     "name": "stderr",
     "output_type": "stream",
     "text": [
      "---> Installing application source...\n",
      "Collecting pip-licenses\n",
      "Downloading https://files.pythonhosted.org/packages/44/ae/327f41f9bf6a3d84f51764eb1b1c76b5f72289dafeb3b33e109e2be4d180/pip_licenses-2.2.0-py3-none-any.whl\n",
      "Collecting PTable (from pip-licenses)\n",
      "Downloading https://files.pythonhosted.org/packages/ab/b3/b54301811173ca94119eb474634f120a49cd370f257d1aae5a4abaf12729/PTable-0.9.2.tar.gz\n",
      "Building wheels for collected packages: PTable\n",
      "Building wheel for PTable (setup.py): started\n",
      "Building wheel for PTable (setup.py): finished with status 'done'\n",
      "Created wheel for PTable: filename=PTable-0.9.2-cp37-none-any.whl size=22906 sha256=2157b5329604f9bc97f6753b4d970a0f28dccee748ca6e146b1baa6788f25913\n",
      "Stored in directory: /root/.cache/pip/wheels/22/cc/2e/55980bfe86393df3e9896146a01f6802978d09d7ebcba5ea56\n",
      "Successfully built PTable\n",
      "Installing collected packages: PTable, pip-licenses\n",
      "Successfully installed PTable-0.9.2 pip-licenses-2.2.0\n",
      "created path: ./licenses/license_info.csv\n",
      "created path: ./licenses/license.txt\n",
      "Build completed successfully\n",
      "Image: \"rafalseldon/issue_1927:0.1\" with ID \"sha256:c04068cd6f3003236480eb63bc91da8fafb53d9bf69a8f74e7b1ece52a65db6d\" not present on node \"seldon-control-plane\"\n"
     ]
    }
   ],
   "source": [
    "%%bash\n",
    "cd issue_1927\n",
    "s2i build -E env . seldonio/seldon-core-s2i-python37:1.1.1-rc rafalseldon/issue_1927:0.1\n",
    "kind load docker-image rafalseldon/issue_1927:0.1 --name seldon"
   ]
  },
  {
   "cell_type": "markdown",
   "metadata": {},
   "source": [
    "# Deployment"
   ]
  },
  {
   "cell_type": "code",
   "execution_count": 107,
   "metadata": {},
   "outputs": [
    {
     "name": "stdout",
     "output_type": "stream",
     "text": [
      "Overwriting issue_1927/deploy.yaml\n"
     ]
    }
   ],
   "source": [
    "%%writefile issue_1927/deploy.yaml\n",
    "\n",
    "apiVersion: machinelearning.seldon.io/v1\n",
    "kind: SeldonDeployment\n",
    "metadata:\n",
    "  name: issue-1927\n",
    "spec:\n",
    "  name: test-deployment\n",
    "  predictors:\n",
    "  - componentSpecs:\n",
    "    - spec:\n",
    "        containers:\n",
    "            \n",
    "        - image: rafalseldon/issue_1927:0.1\n",
    "          name: response-generator\n",
    "          env:\n",
    "          - name: SELDON_NAME\n",
    "            value: response-generator  \n",
    "                \n",
    "        - image: rafalseldon/issue_1927:0.1\n",
    "          name: model-a\n",
    "          env:\n",
    "          - name: SELDON_NAME\n",
    "            value: model-a\n",
    "                \n",
    "        - image: rafalseldon/issue_1927:0.1\n",
    "          name: to-tensor-output-transformer\n",
    "          env:\n",
    "          - name: SELDON_NAME\n",
    "            value: to-tensor-output-transformer\n",
    "                \n",
    "        - image: rafalseldon/issue_1927:0.1\n",
    "          name: to-tensor-transformer\n",
    "          env:\n",
    "          - name: SELDON_NAME\n",
    "            value: to-tensor-transformer\n",
    "                \n",
    "        - image: rafalseldon/issue_1927:0.1\n",
    "          name: image-crop\n",
    "          env:\n",
    "          - name: SELDON_NAME\n",
    "            value: image-crop\n",
    "                \n",
    "        - image: rafalseldon/issue_1927:0.1\n",
    "          name: downloader-1\n",
    "          env:\n",
    "          - name: SELDON_NAME\n",
    "            value: downloader-1\n",
    "                \n",
    "        - image: rafalseldon/issue_1927:0.1\n",
    "          name: downloader-2\n",
    "          env:\n",
    "          - name: SELDON_NAME\n",
    "            value: downloader-2          \n",
    "                \n",
    "        - image: rafalseldon/issue_1927:0.1\n",
    "          name: model-2\n",
    "          env:\n",
    "          - name: SELDON_NAME\n",
    "            value: model-2\n",
    "    graph:\n",
    "        name: response-generator\n",
    "        type: OUTPUT_TRANSFORMER\n",
    "        children:\n",
    "        - name: model-a\n",
    "          type: OUTPUT_TRANSFORMER\n",
    "          children:\n",
    "          - name: to-tensor-output-transformer\n",
    "            type: OUTPUT_TRANSFORMER\n",
    "            children:\n",
    "            - name: image-crop\n",
    "              type: COMBINER\n",
    "              children:\n",
    "              - name: downloader-1\n",
    "                type: TRANSFORMER\n",
    "              - name: downloader-2\n",
    "                type: TRANSFORMER\n",
    "                children:\n",
    "                - name: to-tensor-transformer\n",
    "                  type: TRANSFORMER\n",
    "                  children:\n",
    "                  - name: model-2\n",
    "                    type: MODEL\n",
    "    name: example\n",
    "    replicas: 1"
   ]
  },
  {
   "cell_type": "code",
   "execution_count": 108,
   "metadata": {},
   "outputs": [
    {
     "name": "stdout",
     "output_type": "stream",
     "text": [
      "seldondeployment.machinelearning.seldon.io \"issue-1927\" deleted\n"
     ]
    }
   ],
   "source": [
    "!kubectl delete -f issue_1927/deploy.yaml"
   ]
  },
  {
   "cell_type": "code",
   "execution_count": 109,
   "metadata": {},
   "outputs": [
    {
     "name": "stdout",
     "output_type": "stream",
     "text": [
      "seldondeployment.machinelearning.seldon.io/issue-1927 created\n"
     ]
    }
   ],
   "source": [
    "!kubectl apply -f issue_1927/deploy.yaml"
   ]
  },
  {
   "cell_type": "markdown",
   "metadata": {},
   "source": [
    "# Test"
   ]
  },
  {
   "cell_type": "code",
   "execution_count": 114,
   "metadata": {},
   "outputs": [
    {
     "name": "stdout",
     "output_type": "stream",
     "text": [
      "{\n",
      "  \"data\": {\n",
      "    \"names\": [\n",
      "      \"t:0\"\n",
      "    ],\n",
      "    \"ndarray\": [\n",
      "      [\n",
      "        \"data\"\n",
      "      ],\n",
      "      [\n",
      "        \"data\"\n",
      "      ]\n",
      "    ]\n",
      "  },\n",
      "  \"meta\": {\n",
      "    \"tags\": {\n",
      "      \"counter\": 0,\n",
      "      \"downloader-1-timestamp\": 1592229887.3287637,\n",
      "      \"downloader-2-timestamp\": 1592229887.3278418,\n",
      "      \"image-crop-timestamp\": 1592229887.6459646,\n",
      "      \"model-2-timestamp\": 1592229887.54179,\n",
      "      \"model-a-timestamp\": 1592229887.8638797,\n",
      "      \"response-generator-timestamp\": 1592229887.973219,\n",
      "      \"to-tensor-output-transformer-timestamp\": 1592229887.7547598,\n",
      "      \"to-tensor-transformer-timestamp\": 1592229887.437887\n",
      "    }\n",
      "  }\n",
      "}\n"
     ]
    }
   ],
   "source": [
    "%%bash\n",
    "\n",
    "curl -s -m 20 -H 'Content-Type: application/json' \\\n",
    "    -d '{\"meta\": {\"tags\": {\"counter\": 0}}, \"data\": {\"names\": [\"input\"], \"ndarray\": [\"data\"]}}' \\\n",
    "    http://localhost:8003/seldon/seldon/issue-1927/api/v1.0/predictions  | jq ."
   ]
  },
  {
   "cell_type": "code",
   "execution_count": 115,
   "metadata": {},
   "outputs": [],
   "source": [
    "import requests\n",
    "\n",
    "\n",
    "r = requests.post(\n",
    "    \"http://localhost:8003/seldon/seldon/issue-1927/api/v1.0/predictions\",\n",
    "    json={\"meta\": {\"tags\": {\"counter\": 0}}, \"data\": {\"names\": [\"input\"], \"ndarray\": [\"data\"]}}\n",
    ")\n",
    "\n",
    "\n",
    "j = r.json()"
   ]
  },
  {
   "cell_type": "code",
   "execution_count": 116,
   "metadata": {},
   "outputs": [],
   "source": [
    "data = {k: v for k, v in sorted(j[\"meta\"][\"tags\"].items(), key=lambda item: item[1]) if \"timestamp\" in k}\n",
    "m = min(data.values())\n",
    "data = {k: round(10*(v-m), 1) for k, v in data.items()}"
   ]
  },
  {
   "cell_type": "code",
   "execution_count": 117,
   "metadata": {},
   "outputs": [
    {
     "data": {
      "text/plain": [
       "{'downloader-1-timestamp': 0.0,\n",
       " 'downloader-2-timestamp': 0.0,\n",
       " 'to-tensor-transformer-timestamp': 1.1,\n",
       " 'model-2-timestamp': 2.2,\n",
       " 'image-crop-timestamp': 3.2,\n",
       " 'to-tensor-output-transformer-timestamp': 4.3,\n",
       " 'model-a-timestamp': 5.4,\n",
       " 'response-generator-timestamp': 6.5}"
      ]
     },
     "execution_count": 117,
     "metadata": {},
     "output_type": "execute_result"
    }
   ],
   "source": [
    "data"
   ]
  }
 ],
 "metadata": {
  "kernelspec": {
   "display_name": "Python 3",
   "language": "python",
   "name": "python3"
  },
  "language_info": {
   "codemirror_mode": {
    "name": "ipython",
    "version": 3
   },
   "file_extension": ".py",
   "mimetype": "text/x-python",
   "name": "python",
   "nbconvert_exporter": "python",
   "pygments_lexer": "ipython3",
   "version": "3.7.6"
  }
 },
 "nbformat": 4,
 "nbformat_minor": 4
}
